{
 "cells": [
  {
   "cell_type": "code",
   "execution_count": 178,
   "metadata": {},
   "outputs": [],
   "source": [
    "import matplotlib.pyplot as plt\n",
    "import pandas as pd\n",
    "import numpy as np\n",
    "import requests\n",
    "import time\n",
    "from scipy.stats import linregress\n",
    "from config import tmdb_api_key\n",
    "import json\n",
    "from pprint import pprint"
   ]
  },
  {
   "cell_type": "code",
   "execution_count": 179,
   "metadata": {
    "scrolled": true
   },
   "outputs": [],
   "source": [
    " #url for finding genres list of movies\n",
    "url =f\"https://api.themoviedb.org/3/genre/movie/list?api_key={tmdb_api_key}&language==en-US\""
   ]
  },
  {
   "cell_type": "code",
   "execution_count": 180,
   "metadata": {
    "collapsed": true
   },
   "outputs": [
    {
     "name": "stdout",
     "output_type": "stream",
     "text": [
      "{'genres': [{'id': 28, 'name': 'Action'},\n",
      "            {'id': 12, 'name': 'Adventure'},\n",
      "            {'id': 16, 'name': 'Animation'},\n",
      "            {'id': 35, 'name': 'Comedy'},\n",
      "            {'id': 80, 'name': 'Crime'},\n",
      "            {'id': 99, 'name': 'Documentary'},\n",
      "            {'id': 18, 'name': 'Drama'},\n",
      "            {'id': 10751, 'name': 'Family'},\n",
      "            {'id': 14, 'name': 'Fantasy'},\n",
      "            {'id': 36, 'name': 'History'},\n",
      "            {'id': 27, 'name': 'Horror'},\n",
      "            {'id': 10402, 'name': 'Music'},\n",
      "            {'id': 9648, 'name': 'Mystery'},\n",
      "            {'id': 10749, 'name': 'Romance'},\n",
      "            {'id': 878, 'name': 'Science Fiction'},\n",
      "            {'id': 10770, 'name': 'TV Movie'},\n",
      "            {'id': 53, 'name': 'Thriller'},\n",
      "            {'id': 10752, 'name': 'War'},\n",
      "            {'id': 37, 'name': 'Western'}]}\n"
     ]
    }
   ],
   "source": [
    "#verify http status code ## create json variable  ###pretty print json for readability\n",
    "response = requests.get(url)\n",
    "genres_response = response.json()\n",
    "pprint(genres_response)\n"
   ]
  },
  {
   "cell_type": "code",
   "execution_count": 181,
   "metadata": {},
   "outputs": [
    {
     "data": {
      "text/plain": [
       "dict"
      ]
     },
     "execution_count": 181,
     "metadata": {},
     "output_type": "execute_result"
    }
   ],
   "source": [
    "#verified data type\n",
    "type(genres_response)"
   ]
  },
  {
   "cell_type": "code",
   "execution_count": 182,
   "metadata": {},
   "outputs": [
    {
     "data": {
      "text/plain": [
       "19"
      ]
     },
     "execution_count": 182,
     "metadata": {},
     "output_type": "execute_result"
    }
   ],
   "source": [
    "#determined number of categories for genre\n",
    "len(genres_response['genres'])"
   ]
  },
  {
   "cell_type": "code",
   "execution_count": null,
   "metadata": {},
   "outputs": [],
   "source": [
    "#set variable for iterating through url_2 dataset\n",
    "#page_count=500"
   ]
  },
  {
   "cell_type": "code",
   "execution_count": 192,
   "metadata": {},
   "outputs": [],
   "source": [
    "\n",
    "#overall api data set url\n",
    "url_2 =f\"http://api.themoviedb.org/3/discover/movie?primary_release_year=2019&page=1&api_key={tmdb_api_key}&language==en-US\"\n"
   ]
  },
  {
   "cell_type": "code",
   "execution_count": 193,
   "metadata": {
    "collapsed": true
   },
   "outputs": [
    {
     "name": "stdout",
     "output_type": "stream",
     "text": [
      "{'page': 1,\n",
      " 'results': [{'adult': False,\n",
      "              'backdrop_path': '/5BwqwxMEjeFtdknRV792Svo0K1v.jpg',\n",
      "              'genre_ids': [12, 18, 9648, 878, 53],\n",
      "              'id': 419704,\n",
      "              'original_language': 'en',\n",
      "              'original_title': 'Ad Astra',\n",
      "              'overview': 'The near future, a time when both hope and '\n",
      "                          'hardships drive humanity to look to the stars and '\n",
      "                          'beyond. While a mysterious phenomenon menaces to '\n",
      "                          'destroy life on planet Earth, astronaut Roy McBride '\n",
      "                          'undertakes a mission across the immensity of space '\n",
      "                          'and its many perils to uncover the truth about a '\n",
      "                          'lost expedition that decades before boldly faced '\n",
      "                          'emptiness and silence in search of the unknown.',\n",
      "              'popularity': 365.75,\n",
      "              'poster_path': '/xBHvZcjRiWyobQ9kxBhO6B2dtRI.jpg',\n",
      "              'release_date': '2019-09-17',\n",
      "              'title': 'Ad Astra',\n",
      "              'video': False,\n",
      "              'vote_average': 6,\n",
      "              'vote_count': 2585},\n",
      "             {'adult': False,\n",
      "              'backdrop_path': '/6fkqwqLEcDZOEAnBBfKAniwNxtx.jpg',\n",
      "              'genre_ids': [35, 10749],\n",
      "              'id': 475303,\n",
      "              'original_language': 'en',\n",
      "              'original_title': 'A Rainy Day in New York',\n",
      "              'overview': 'Two young people arrive in New York to spend a '\n",
      "                          \"weekend, but once they arrive they're met with bad \"\n",
      "                          'weather and a series of adventures.',\n",
      "              'popularity': 328.342,\n",
      "              'poster_path': '/eFCzU9Jqp2Ea17ysDkG8PB0NLiR.jpg',\n",
      "              'release_date': '2019-07-26',\n",
      "              'title': 'A Rainy Day in New York',\n",
      "              'video': False,\n",
      "              'vote_average': 6.7,\n",
      "              'vote_count': 680},\n",
      "             {'adult': False,\n",
      "              'backdrop_path': '/hreiLoPysWG79TsyQgMzFKaOTF5.jpg',\n",
      "              'genre_ids': [28, 12, 35, 14],\n",
      "              'id': 512200,\n",
      "              'original_language': 'en',\n",
      "              'original_title': 'Jumanji: The Next Level',\n",
      "              'overview': 'As the gang return to Jumanji to rescue one of '\n",
      "                          'their own, they discover that nothing is as they '\n",
      "                          'expect. The players will have to brave parts '\n",
      "                          'unknown and unexplored in order to escape the '\n",
      "                          'world’s most dangerous game.',\n",
      "              'popularity': 195.942,\n",
      "              'poster_path': '/bB42KDdfWkOvmzmYkmK58ZlCa9P.jpg',\n",
      "              'release_date': '2019-12-04',\n",
      "              'title': 'Jumanji: The Next Level',\n",
      "              'video': False,\n",
      "              'vote_average': 6.8,\n",
      "              'vote_count': 2304},\n",
      "             {'adult': False,\n",
      "              'backdrop_path': '/cqa3sa4c4jevgnEJwq3CMF8UfTG.jpg',\n",
      "              'genre_ids': [18, 10752],\n",
      "              'id': 530915,\n",
      "              'original_language': 'en',\n",
      "              'original_title': '1917',\n",
      "              'overview': 'At the height of the First World War, two young '\n",
      "                          'British soldiers must cross enemy territory and '\n",
      "                          'deliver a message that will stop a deadly attack on '\n",
      "                          'hundreds of soldiers.',\n",
      "              'popularity': 190.677,\n",
      "              'poster_path': '/iZf0KyrE25z1sage4SYFLCCrMi9.jpg',\n",
      "              'release_date': '2019-12-25',\n",
      "              'title': '1917',\n",
      "              'video': False,\n",
      "              'vote_average': 8,\n",
      "              'vote_count': 3324},\n",
      "             {'adult': False,\n",
      "              'backdrop_path': '/xJWPZIYOEFIjZpBL7SVBGnzRYXp.jpg',\n",
      "              'genre_ids': [12, 16, 10751],\n",
      "              'id': 330457,\n",
      "              'original_language': 'en',\n",
      "              'original_title': 'Frozen II',\n",
      "              'overview': 'Elsa, Anna, Kristoff and Olaf head far into the '\n",
      "                          'forest to learn the truth about an ancient mystery '\n",
      "                          'of their kingdom.',\n",
      "              'popularity': 181.185,\n",
      "              'poster_path': '/pjeMs3yqRmFL3giJy4PMXWZTTPa.jpg',\n",
      "              'release_date': '2019-11-20',\n",
      "              'title': 'Frozen II',\n",
      "              'video': False,\n",
      "              'vote_average': 7.1,\n",
      "              'vote_count': 2921},\n",
      "             {'adult': False,\n",
      "              'backdrop_path': '/jOzrELAzFxtMx2I4uDGHOotdfsS.jpg',\n",
      "              'genre_ids': [28, 12, 878],\n",
      "              'id': 181812,\n",
      "              'original_language': 'en',\n",
      "              'original_title': 'Star Wars: The Rise of Skywalker',\n",
      "              'overview': 'The surviving Resistance faces the First Order once '\n",
      "                          'again as the journey of Rey, Finn and Poe Dameron '\n",
      "                          'continues. With the power and knowledge of '\n",
      "                          'generations behind them, the final battle begins.',\n",
      "              'popularity': 140.287,\n",
      "              'poster_path': '/db32LaOibwEliAmSL2jjDF6oDdj.jpg',\n",
      "              'release_date': '2019-12-18',\n",
      "              'title': 'Star Wars: The Rise of Skywalker',\n",
      "              'video': False,\n",
      "              'vote_average': 6.5,\n",
      "              'vote_count': 3231},\n",
      "             {'adult': False,\n",
      "              'backdrop_path': '/n6bUvigpRFqSwmPp1m2YADdbRBc.jpg',\n",
      "              'genre_ids': [80, 18, 53],\n",
      "              'id': 475557,\n",
      "              'original_language': 'en',\n",
      "              'original_title': 'Joker',\n",
      "              'overview': 'During the 1980s, a failed stand-up comedian is '\n",
      "                          'driven insane and turns to a life of crime and '\n",
      "                          'chaos in Gotham City while becoming an infamous '\n",
      "                          'psychopathic crime figure.',\n",
      "              'popularity': 136.567,\n",
      "              'poster_path': '/udDclJoHjfjb8Ekgsd4FDteOkCU.jpg',\n",
      "              'release_date': '2019-10-02',\n",
      "              'title': 'Joker',\n",
      "              'video': False,\n",
      "              'vote_average': 8.2,\n",
      "              'vote_count': 9936},\n",
      "             {'adult': False,\n",
      "              'backdrop_path': '/TU9NIjwzjoKPwQHoHshkFcQUCG.jpg',\n",
      "              'genre_ids': [35, 18, 53],\n",
      "              'id': 496243,\n",
      "              'original_language': 'ko',\n",
      "              'original_title': '기생충',\n",
      "              'overview': \"All unemployed, Ki-taek's family takes peculiar \"\n",
      "                          'interest in the wealthy and glamorous Parks for '\n",
      "                          'their livelihood until they get entangled in an '\n",
      "                          'unexpected incident.',\n",
      "              'popularity': 114,\n",
      "              'poster_path': '/7IiTTgloJzvGI1TAYymCfbfl3vT.jpg',\n",
      "              'release_date': '2019-05-30',\n",
      "              'title': 'Parasite',\n",
      "              'video': False,\n",
      "              'vote_average': 8.5,\n",
      "              'vote_count': 5250},\n",
      "             {'adult': False,\n",
      "              'backdrop_path': '/n3UanIvmnBlH531pykuzNs4LbH6.jpg',\n",
      "              'genre_ids': [28, 18],\n",
      "              'id': 359724,\n",
      "              'original_language': 'en',\n",
      "              'original_title': 'Ford v Ferrari',\n",
      "              'overview': 'American car designer Carroll Shelby and the '\n",
      "                          'British-born driver Ken Miles work together to '\n",
      "                          'battle corporate interference, the laws of physics, '\n",
      "                          'and their own personal demons to build a '\n",
      "                          'revolutionary race car for Ford Motor Company and '\n",
      "                          'take on the dominating race cars of Enzo Ferrari at '\n",
      "                          'the 24 Hours of Le Mans in France in 1966.',\n",
      "              'popularity': 90.006,\n",
      "              'poster_path': '/6ApDtO7xaWAfPqfi2IARXIzj8QS.jpg',\n",
      "              'release_date': '2019-11-13',\n",
      "              'title': 'Ford v Ferrari',\n",
      "              'video': False,\n",
      "              'vote_average': 7.8,\n",
      "              'vote_count': 1882},\n",
      "             {'adult': False,\n",
      "              'backdrop_path': '/qlYxtqVfu2LOdvYMMDPCSGX0Oz0.jpg',\n",
      "              'genre_ids': [28, 12, 16, 35],\n",
      "              'id': 431693,\n",
      "              'original_language': 'en',\n",
      "              'original_title': 'Spies in Disguise',\n",
      "              'overview': 'Super spy Lance Sterling and scientist Walter '\n",
      "                          'Beckett are almost exact opposites. Lance is '\n",
      "                          'smooth, suave and debonair. Walter is… not. But '\n",
      "                          'what Walter lacks in social skills he makes up for '\n",
      "                          'in smarts and invention, creating the awesome '\n",
      "                          'gadgets Lance uses on his epic missions. But when '\n",
      "                          'events take an unexpected turn, Walter and Lance '\n",
      "                          'suddenly have to rely on each other in a whole new '\n",
      "                          'way.',\n",
      "              'popularity': 79.645,\n",
      "              'poster_path': '/30YacPAcxpNemhhwX0PVUl9pVA3.jpg',\n",
      "              'release_date': '2019-12-24',\n",
      "              'title': 'Spies in Disguise',\n",
      "              'video': False,\n",
      "              'vote_average': 7.3,\n",
      "              'vote_count': 368},\n",
      "             {'adult': False,\n",
      "              'backdrop_path': '/zETkzgle7c6wAeW11snnVUBp67S.jpg',\n",
      "              'genre_ids': [27, 53],\n",
      "              'id': 599975,\n",
      "              'original_language': 'en',\n",
      "              'original_title': 'Countdown',\n",
      "              'overview': 'A young nurse downloads an app that tells her she '\n",
      "                          'only has three days to live. With time ticking away '\n",
      "                          'and a mysterious figure haunting her, she must find '\n",
      "                          'a way to save her life before time runs out.',\n",
      "              'popularity': 76.787,\n",
      "              'poster_path': '/qCDPKUMX5xrxxQY8XhGVCKO3fks.jpg',\n",
      "              'release_date': '2019-10-24',\n",
      "              'title': 'Countdown',\n",
      "              'video': False,\n",
      "              'vote_average': 6.3,\n",
      "              'vote_count': 428},\n",
      "             {'adult': False,\n",
      "              'backdrop_path': '/cjTQSwcsfVdirSFSHNBXRGkxmWa.jpg',\n",
      "              'genre_ids': [35, 9648],\n",
      "              'id': 546554,\n",
      "              'original_language': 'en',\n",
      "              'original_title': 'Knives Out',\n",
      "              'overview': 'When renowned crime novelist Harlan Thrombey is '\n",
      "                          'found dead at his estate just after his 85th '\n",
      "                          'birthday, the inquisitive and debonair Detective '\n",
      "                          'Benoit Blanc is mysteriously enlisted to '\n",
      "                          \"investigate. From Harlan's dysfunctional family to \"\n",
      "                          'his devoted staff, Blanc sifts through a web of red '\n",
      "                          'herrings and self-serving lies to uncover the truth '\n",
      "                          \"behind Harlan's untimely death.\",\n",
      "              'popularity': 73.378,\n",
      "              'poster_path': '/pThyQovXQrw2m0s9x82twj48Jq4.jpg',\n",
      "              'release_date': '2019-11-27',\n",
      "              'title': 'Knives Out',\n",
      "              'video': False,\n",
      "              'vote_average': 7.8,\n",
      "              'vote_count': 2784},\n",
      "             {'adult': False,\n",
      "              'backdrop_path': '/riTANvQ8GKmQbgtC1ps3OfkU43A.jpg',\n",
      "              'genre_ids': [28, 878],\n",
      "              'id': 290859,\n",
      "              'original_language': 'en',\n",
      "              'original_title': 'Terminator: Dark Fate',\n",
      "              'overview': 'Decades after Sarah Connor prevented Judgment Day, '\n",
      "                          'a lethal new Terminator is sent to eliminate the '\n",
      "                          'future leader of the resistance. In a fight to save '\n",
      "                          'mankind, battle-hardened Sarah Connor teams up with '\n",
      "                          'an unexpected ally and an enhanced super soldier to '\n",
      "                          'stop the deadliest Terminator yet.',\n",
      "              'popularity': 68.482,\n",
      "              'poster_path': '/vqzNJRH4YyquRiWxCCOH0aXggHI.jpg',\n",
      "              'release_date': '2019-10-23',\n",
      "              'title': 'Terminator: Dark Fate',\n",
      "              'video': False,\n",
      "              'vote_average': 6.3,\n",
      "              'vote_count': 1718},\n",
      "             {'adult': False,\n",
      "              'backdrop_path': '/a0xTB1vBxMGt6LGG4N7k1wO9lfL.jpg',\n",
      "              'genre_ids': [28, 12, 35],\n",
      "              'id': 458897,\n",
      "              'original_language': 'en',\n",
      "              'original_title': \"Charlie's Angels\",\n",
      "              'overview': 'When a systems engineer blows the whistle on a '\n",
      "                          \"dangerous technology, Charlie's Angels from across \"\n",
      "                          'the globe are called into action, putting their '\n",
      "                          'lives on the line to protect society.',\n",
      "              'popularity': 61.672,\n",
      "              'poster_path': '/1DPUFG6QnGqzpvEaDEv7TaepycM.jpg',\n",
      "              'release_date': '2019-11-14',\n",
      "              'title': \"Charlie's Angels\",\n",
      "              'video': False,\n",
      "              'vote_average': 6.5,\n",
      "              'vote_count': 694},\n",
      "             {'adult': False,\n",
      "              'backdrop_path': '/5GynP6w2OQWSbKnCLHrBIriF4Cw.jpg',\n",
      "              'genre_ids': [35, 80, 18, 53],\n",
      "              'id': 540901,\n",
      "              'original_language': 'en',\n",
      "              'original_title': 'Hustlers',\n",
      "              'overview': 'A crew of savvy former strip club employees band '\n",
      "                          'together to turn the tables on their Wall Street '\n",
      "                          'clients.',\n",
      "              'popularity': 59.389,\n",
      "              'poster_path': '/zBhv8rsLOfpFW2M5b6wW78Uoojs.jpg',\n",
      "              'release_date': '2019-09-12',\n",
      "              'title': 'Hustlers',\n",
      "              'video': False,\n",
      "              'vote_average': 6.3,\n",
      "              'vote_count': 1160},\n",
      "             {'adult': False,\n",
      "              'backdrop_path': '/lvTdnD0gqnXzggB8ncxwEDaQdHV.jpg',\n",
      "              'genre_ids': [28, 16, 35],\n",
      "              'id': 496891,\n",
      "              'original_language': 'ja',\n",
      "              'original_title': 'ガールズ＆パンツァー 最終章 第2話',\n",
      "              'overview': 'Part 2 of 6 for the final chapter of Girls und '\n",
      "                          'Panzer series.',\n",
      "              'popularity': 58.805,\n",
      "              'poster_path': '/2UPHyMm8fE22yvTFVGu1LW2nVF0.jpg',\n",
      "              'release_date': '2019-06-15',\n",
      "              'title': 'Girls und Panzer das Finale: Part II',\n",
      "              'video': False,\n",
      "              'vote_average': 5.2,\n",
      "              'vote_count': 9},\n",
      "             {'adult': False,\n",
      "              'backdrop_path': '/3uTxPIdVEXxHpsHOHdJC24QebBV.jpg',\n",
      "              'genre_ids': [18, 10749],\n",
      "              'id': 331482,\n",
      "              'original_language': 'en',\n",
      "              'original_title': 'Little Women',\n",
      "              'overview': 'Four sisters come of age in America in the '\n",
      "                          'aftermath of the Civil War.',\n",
      "              'popularity': 58.674,\n",
      "              'poster_path': '/mSmiB8XjUnR1GSIljuCPGsk0cwX.jpg',\n",
      "              'release_date': '2019-12-25',\n",
      "              'title': 'Little Women',\n",
      "              'video': False,\n",
      "              'vote_average': 8,\n",
      "              'vote_count': 1388},\n",
      "             {'adult': False,\n",
      "              'backdrop_path': '/rVqY0Bo4Npf6EIONUROxjYAJfmD.jpg',\n",
      "              'genre_ids': [12, 35, 14, 10749, 10751],\n",
      "              'id': 420817,\n",
      "              'original_language': 'en',\n",
      "              'original_title': 'Aladdin',\n",
      "              'overview': 'A kindhearted street urchin named Aladdin embarks '\n",
      "                          'on a magical adventure after finding a lamp that '\n",
      "                          'releases a wisecracking genie while a power-hungry '\n",
      "                          'Grand Vizier vies for the same lamp that has the '\n",
      "                          'power to make their deepest wishes come true.',\n",
      "              'popularity': 54.864,\n",
      "              'poster_path': '/3iYQTLGoy7QnjcUYRJy4YrAgGvp.jpg',\n",
      "              'release_date': '2019-05-22',\n",
      "              'title': 'Aladdin',\n"
     ]
    },
    {
     "name": "stdout",
     "output_type": "stream",
     "text": [
      "              'video': False,\n",
      "              'vote_average': 7,\n",
      "              'vote_count': 5036},\n",
      "             {'adult': False,\n",
      "              'backdrop_path': '/ekP6EVxL81lZ4ivcqPsoZ72rY0h.jpg',\n",
      "              'genre_ids': [28, 18, 36],\n",
      "              'id': 449924,\n",
      "              'original_language': 'cn',\n",
      "              'original_title': '葉問4',\n",
      "              'overview': 'Following the death of his wife, Ip Man travels to '\n",
      "                          'San Francisco to ease tensions between the local '\n",
      "                          'kung fu masters and his star student, Bruce Lee, '\n",
      "                          'while searching for a better future for his son.',\n",
      "              'popularity': 54.316,\n",
      "              'poster_path': '/d9PhCnofBEeQGR3lwywTjWKBiXj.jpg',\n",
      "              'release_date': '2019-12-20',\n",
      "              'title': 'Ip Man 4: The Finale',\n",
      "              'video': False,\n",
      "              'vote_average': 6,\n",
      "              'vote_count': 354},\n",
      "             {'adult': False,\n",
      "              'backdrop_path': '/5qTZGBHJNq6riBliYtOnH4yUN6x.jpg',\n",
      "              'genre_ids': [35, 80, 18, 53],\n",
      "              'id': 473033,\n",
      "              'original_language': 'en',\n",
      "              'original_title': 'Uncut Gems',\n",
      "              'overview': 'A charismatic New York City jeweler always on the '\n",
      "                          'lookout for the next big score makes a series of '\n",
      "                          'high-stakes bets that could lead to the windfall of '\n",
      "                          'a lifetime. Howard must perform a precarious '\n",
      "                          'high-wire act, balancing business, family, and '\n",
      "                          'encroaching adversaries on all sides in his '\n",
      "                          'relentless pursuit of the ultimate win.',\n",
      "              'popularity': 51.292,\n",
      "              'poster_path': '/6XN1vxHc7kUSqNWtaQKN45J5x2v.jpg',\n",
      "              'release_date': '2019-11-14',\n",
      "              'title': 'Uncut Gems',\n",
      "              'video': False,\n",
      "              'vote_average': 7.2,\n",
      "              'vote_count': 1277}],\n",
      " 'total_pages': 500,\n",
      " 'total_results': 10000}\n"
     ]
    }
   ],
   "source": [
    "#pretty print out url_2 dataset as a json (dict)\n",
    "movie_ds = (requests.get(url_2).json())\n",
    "pprint(movie_ds)"
   ]
  },
  {
   "cell_type": "code",
   "execution_count": 198,
   "metadata": {
    "collapsed": true
   },
   "outputs": [
    {
     "name": "stdout",
     "output_type": "stream",
     "text": [
      "   popularity  vote_count  video                       poster_path      id  \\\n",
      "0      365.75        2585  False  /xBHvZcjRiWyobQ9kxBhO6B2dtRI.jpg  419704   \n",
      "1      365.75        2585  False  /xBHvZcjRiWyobQ9kxBhO6B2dtRI.jpg  419704   \n",
      "2      365.75        2585  False  /xBHvZcjRiWyobQ9kxBhO6B2dtRI.jpg  419704   \n",
      "3      365.75        2585  False  /xBHvZcjRiWyobQ9kxBhO6B2dtRI.jpg  419704   \n",
      "4      365.75        2585  False  /xBHvZcjRiWyobQ9kxBhO6B2dtRI.jpg  419704   \n",
      "\n",
      "   adult                     backdrop_path original_language original_title  \\\n",
      "0  False  /5BwqwxMEjeFtdknRV792Svo0K1v.jpg                en       Ad Astra   \n",
      "1  False  /5BwqwxMEjeFtdknRV792Svo0K1v.jpg                en       Ad Astra   \n",
      "2  False  /5BwqwxMEjeFtdknRV792Svo0K1v.jpg                en       Ad Astra   \n",
      "3  False  /5BwqwxMEjeFtdknRV792Svo0K1v.jpg                en       Ad Astra   \n",
      "4  False  /5BwqwxMEjeFtdknRV792Svo0K1v.jpg                en       Ad Astra   \n",
      "\n",
      "   genre_ids     title  vote_average  \\\n",
      "0         12  Ad Astra             6   \n",
      "1         18  Ad Astra             6   \n",
      "2       9648  Ad Astra             6   \n",
      "3        878  Ad Astra             6   \n",
      "4         53  Ad Astra             6   \n",
      "\n",
      "                                            overview release_date  \n",
      "0  The near future, a time when both hope and har...   2019-09-17  \n",
      "1  The near future, a time when both hope and har...   2019-09-17  \n",
      "2  The near future, a time when both hope and har...   2019-09-17  \n",
      "3  The near future, a time when both hope and har...   2019-09-17  \n",
      "4  The near future, a time when both hope and har...   2019-09-17  \n"
     ]
    }
   ],
   "source": [
    "#create variable to narrow json data set to values within \"results\" key \n",
    "revised_movie_ds=movie_ds['results'][0]\n",
    "\n",
    "# Load the first sheet of the JSON file into a Pandas DataFrame\n",
    "movie_df = pd.DataFrame.from_dict(revised_movie_ds)\n",
    "\n",
    "print(movie_df)"
   ]
  },
  {
   "cell_type": "code",
   "execution_count": 199,
   "metadata": {},
   "outputs": [
    {
     "data": {
      "text/plain": [
       "pandas.core.frame.DataFrame"
      ]
     },
     "execution_count": 199,
     "metadata": {},
     "output_type": "execute_result"
    }
   ],
   "source": [
    "type(movie_df) "
   ]
  },
  {
   "cell_type": "code",
   "execution_count": null,
   "metadata": {
    "scrolled": true
   },
   "outputs": [],
   "source": [
    "#titles = year_ds['results'][0]['title']\n",
    "#release_date = year_ds['results'][0]['release_date']\n",
    "#print(f'title: {titles} date: {release_date} genre id: {genre_id_list}')\n",
    "\n",
    "genre_id_list= movie_ds['results'][0]['genre_ids']\n",
    "for g_id in genre_id_list:\n",
    "    print(g_id)"
   ]
  },
  {
   "cell_type": "code",
   "execution_count": null,
   "metadata": {},
   "outputs": [],
   "source": [
    "#create pandas dataframe from json\n",
    "#loop through for title, date, and genre id [list]\n",
    "#get count of genre per year and by per month\n",
    "#"
   ]
  },
  {
   "cell_type": "code",
   "execution_count": null,
   "metadata": {},
   "outputs": [],
   "source": []
  },
  {
   "cell_type": "code",
   "execution_count": null,
   "metadata": {},
   "outputs": [],
   "source": []
  },
  {
   "cell_type": "code",
   "execution_count": null,
   "metadata": {},
   "outputs": [],
   "source": []
  },
  {
   "cell_type": "code",
   "execution_count": null,
   "metadata": {},
   "outputs": [],
   "source": []
  },
  {
   "cell_type": "code",
   "execution_count": null,
   "metadata": {},
   "outputs": [],
   "source": []
  },
  {
   "cell_type": "code",
   "execution_count": null,
   "metadata": {},
   "outputs": [],
   "source": []
  },
  {
   "cell_type": "code",
   "execution_count": null,
   "metadata": {},
   "outputs": [],
   "source": []
  },
  {
   "cell_type": "markdown",
   "metadata": {},
   "source": [
    "# trial cells ___________________________________________ "
   ]
  },
  {
   "cell_type": "code",
   "execution_count": 200,
   "metadata": {},
   "outputs": [
    {
     "name": "stdout",
     "output_type": "stream",
     "text": [
      "28\n"
     ]
    }
   ],
   "source": [
    "new_list = (genres_response['genres'][0]['id'])\n",
    "print(new_list)"
   ]
  }
 ],
 "metadata": {
  "kernelspec": {
   "display_name": "Python 3",
   "language": "python",
   "name": "python3"
  },
  "language_info": {
   "codemirror_mode": {
    "name": "ipython",
    "version": 3
   },
   "file_extension": ".py",
   "mimetype": "text/x-python",
   "name": "python",
   "nbconvert_exporter": "python",
   "pygments_lexer": "ipython3",
   "version": "3.7.4"
  }
 },
 "nbformat": 4,
 "nbformat_minor": 2
}
